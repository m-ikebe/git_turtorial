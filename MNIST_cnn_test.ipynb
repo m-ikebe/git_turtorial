{
  "nbformat": 4,
  "nbformat_minor": 0,
  "metadata": {
    "colab": {
      "provenance": [],
      "mount_file_id": "1TYlAFFsQv8Oe1jEG0vqtjdIbK7mB7o9v",
      "authorship_tag": "ABX9TyPgdcIfHSjmUR8fgiweF19z",
      "include_colab_link": true
    },
    "kernelspec": {
      "name": "python3",
      "display_name": "Python 3"
    },
    "language_info": {
      "name": "python"
    }
  },
  "cells": [
    {
      "cell_type": "markdown",
      "metadata": {
        "id": "view-in-github",
        "colab_type": "text"
      },
      "source": [
        "<a href=\"https://colab.research.google.com/github/m-ikebe/git_turtorial/blob/main/MNIST_cnn_test.ipynb\" target=\"_parent\"><img src=\"https://colab.research.google.com/assets/colab-badge.svg\" alt=\"Open In Colab\"/></a>"
      ]
    },
    {
      "cell_type": "markdown",
      "source": [
        "# MNISTを使用して判定するディープラーニングモデル開発\n",
        "\n",
        "---\n",
        "\n"
      ],
      "metadata": {
        "id": "k-caYEvrJDy-"
      }
    },
    {
      "cell_type": "code",
      "execution_count": 1,
      "metadata": {
        "id": "xB82Id27Hx8P",
        "colab": {
          "base_uri": "https://localhost:8080/"
        },
        "outputId": "d16e1550-6a3b-4da5-d589-ff3fb2630400"
      },
      "outputs": [
        {
          "output_type": "stream",
          "name": "stdout",
          "text": [
            "Downloading data from https://storage.googleapis.com/tensorflow/tf-keras-datasets/mnist.npz\n",
            "\u001b[1m11490434/11490434\u001b[0m \u001b[32m━━━━━━━━━━━━━━━━━━━━\u001b[0m\u001b[37m\u001b[0m \u001b[1m0s\u001b[0m 0us/step\n"
          ]
        }
      ],
      "source": [
        "from tensorflow import keras\n",
        "from tensorflow.keras.models import Sequential\n",
        "from tensorflow.keras.layers import Dense, Dropout\n",
        "from tensorflow.keras.optimizers import Adam, RMSprop\n",
        "\n",
        "import matplotlib.pyplot as plt\n",
        "import numpy as np                                                              # 数値計算を効率的に行うためのライブラリ\n",
        "\n",
        "\n",
        "(x_train,y_train),(x_test,y_test) = keras.datasets.mnist.load_data()"
      ]
    },
    {
      "cell_type": "code",
      "source": [
        "print(x_train.shape)  # トレーニングデータ\n",
        "print(x_test.shape)   # 検証データ\n",
        "print(y_train.shape)  # トレーニング正解ラベル\n",
        "print(y_test.shape)   # 検証正解ラベル"
      ],
      "metadata": {
        "colab": {
          "base_uri": "https://localhost:8080/"
        },
        "id": "foCK9OWZIQTO",
        "outputId": "61fba317-230a-4f3d-e762-bfafafc8aeca"
      },
      "execution_count": 2,
      "outputs": [
        {
          "output_type": "stream",
          "name": "stdout",
          "text": [
            "(60000, 28, 28)\n",
            "(10000, 28, 28)\n",
            "(60000,)\n",
            "(10000,)\n"
          ]
        }
      ]
    },
    {
      "cell_type": "code",
      "source": [
        "cnt = 1013\n",
        "print (\"正解ラベル：\" , y_train[cnt])\n",
        "# print (x_train[cnt])\n",
        "plt.imshow(x_train[cnt])\n",
        "plt.show()"
      ],
      "metadata": {
        "colab": {
          "base_uri": "https://localhost:8080/",
          "height": 447
        },
        "id": "PmJIjjgOJ68c",
        "outputId": "421176bc-171d-4811-8a66-aeb6b8cc1015"
      },
      "execution_count": 5,
      "outputs": [
        {
          "output_type": "stream",
          "name": "stdout",
          "text": [
            "正解ラベル： 8\n"
          ]
        },
        {
          "output_type": "display_data",
          "data": {
            "text/plain": [
              "<Figure size 640x480 with 1 Axes>"
            ],
            "image/png": "[encoded data removed]"
          },
          "metadata": {}
        }
      ]
    },
    {
      "cell_type": "markdown",
      "source": [
        "#入力層用にデータを加工\n"
      ],
      "metadata": {
        "id": "uP3nDlmuUTEH"
      }
    },
    {
      "cell_type": "code",
      "source": [
        "print(28*28)\n",
        "\n",
        "#入力層用に3次元配列を2次元配列に加工\n",
        "x_train = x_train.reshape(60000,28*28)\n",
        "x_test = x_test.reshape(10000,28*28)\n",
        "\n",
        "#要素を0～1の範囲になるよう変換\n",
        "x_train = x_train.astype('float32')/255\n",
        "x_test = x_test.astype('float32')/255"
      ],
      "metadata": {
        "colab": {
          "base_uri": "https://localhost:8080/"
        },
        "id": "_8_24iazMqRA",
        "outputId": "3ea0458f-a491-4b55-9780-6297dfb3568d"
      },
      "execution_count": 4,
      "outputs": [
        {
          "output_type": "stream",
          "name": "stdout",
          "text": [
            "784\n"
          ]
        }
      ]
    },
    {
      "cell_type": "markdown",
      "source": [
        "#ニューラルネットワーク作成"
      ],
      "metadata": {
        "id": "y-sJfmYoUXsb"
      }
    },
    {
      "cell_type": "code",
      "source": [
        "# 正解ラベルをワンホット表現に変換\n",
        "num_cloasses = 10\n",
        "y_train = keras.utils.to_categorical(y_train,num_cloasses)\n",
        "y_test = keras.utils.to_categorical(y_test,num_cloasses)\n",
        "print(y_train[cnt])\n",
        "\n",
        "model = Sequential()  # ニューラルネットワークの元になるオブジェクト生成\n",
        "\n",
        "# 第１層の作成\n",
        "model.add(Dense(512,activation='relu',input_shape=(28*28,)))\n",
        "\n",
        "# ドロップアウト率を20％にする\n",
        "model.add(Dropout(0.2))\n",
        "\n",
        "# 出力層の作成\n",
        "model.add(Dense(num_cloasses,activation='softmax'))\n",
        "\n",
        "# 誤差逆伝播（バックプロパゲーション）を実装\n",
        "model.compile(loss='categorical_crossentropy'  # 誤差関数を交差エントロピー誤差\n",
        "              ,optimizer=Adam()             # 学習方法をAdamにする\n",
        "              ,metrics=['accuracy'])           # 学習評価には正解率を使う\n",
        "\n",
        "# ニューラルネットワークの構造を出力\n",
        "model.summary()"
      ],
      "metadata": {
        "colab": {
          "base_uri": "https://localhost:8080/",
          "height": 310
        },
        "id": "0kWnQ68JUewV",
        "outputId": "043b0182-8792-4ddb-8e8e-3e86f06fdcb3"
      },
      "execution_count": 5,
      "outputs": [
        {
          "output_type": "stream",
          "name": "stdout",
          "text": [
            "[0. 0. 0. 0. 0. 0. 0. 1. 0. 0.]\n"
          ]
        },
        {
          "output_type": "stream",
          "name": "stderr",
          "text": [
            "/usr/local/lib/python3.12/dist-packages/keras/src/layers/core/dense.py:93: UserWarning: Do not pass an `input_shape`/`input_dim` argument to a layer. When using Sequential models, prefer using an `Input(shape)` object as the first layer in the model instead.\n",
            "  super().__init__(activity_regularizer=activity_regularizer, **kwargs)\n"
          ]
        },
        {
          "output_type": "display_data",
          "data": {
            "text/plain": [
              "\u001b[1mModel: \"sequential\"\u001b[0m\n"
            ],
            "text/html": [
              "<pre style=\"white-space:pre;overflow-x:auto;line-height:normal;font-family:Menlo,'DejaVu Sans Mono',consolas,'Courier New',monospace\"><span style=\"font-weight: bold\">Model: \"sequential\"</span>\n",
              "</pre>\n"
            ]
          },
          "metadata": {}
        },
        {
          "output_type": "display_data",
          "data": {
            "text/plain": [
              "┏━━━━━━━━━━━━━━━━━━━━━━━━━━━━━━━━━┳━━━━━━━━━━━━━━━━━━━━━━━━┳━━━━━━━━━━━━━━━┓\n",
              "┃\u001b[1m \u001b[0m\u001b[1mLayer (type)                   \u001b[0m\u001b[1m \u001b[0m┃\u001b[1m \u001b[0m\u001b[1mOutput Shape          \u001b[0m\u001b[1m \u001b[0m┃\u001b[1m \u001b[0m\u001b[1m      Param #\u001b[0m\u001b[1m \u001b[0m┃\n",
              "┡━━━━━━━━━━━━━━━━━━━━━━━━━━━━━━━━━╇━━━━━━━━━━━━━━━━━━━━━━━━╇━━━━━━━━━━━━━━━┩\n",
              "│ dense (\u001b[38;5;33mDense\u001b[0m)                   │ (\u001b[38;5;45mNone\u001b[0m, \u001b[38;5;34m512\u001b[0m)            │       \u001b[38;5;34m401,920\u001b[0m │\n",
              "├─────────────────────────────────┼────────────────────────┼───────────────┤\n",
              "│ dropout (\u001b[38;5;33mDropout\u001b[0m)               │ (\u001b[38;5;45mNone\u001b[0m, \u001b[38;5;34m512\u001b[0m)            │             \u001b[38;5;34m0\u001b[0m │\n",
              "├─────────────────────────────────┼────────────────────────┼───────────────┤\n",
              "│ dense_1 (\u001b[38;5;33mDense\u001b[0m)                 │ (\u001b[38;5;45mNone\u001b[0m, \u001b[38;5;34m10\u001b[0m)             │         \u001b[38;5;34m5,130\u001b[0m │\n",
              "└─────────────────────────────────┴────────────────────────┴───────────────┘\n"
            ],
            "text/html": [
              "<pre style=\"white-space:pre;overflow-x:auto;line-height:normal;font-family:Menlo,'DejaVu Sans Mono',consolas,'Courier New',monospace\">┏━━━━━━━━━━━━━━━━━━━━━━━━━━━━━━━━━┳━━━━━━━━━━━━━━━━━━━━━━━━┳━━━━━━━━━━━━━━━┓\n",
              "┃<span style=\"font-weight: bold\"> Layer (type)                    </span>┃<span style=\"font-weight: bold\"> Output Shape           </span>┃<span style=\"font-weight: bold\">       Param # </span>┃\n",
              "┡━━━━━━━━━━━━━━━━━━━━━━━━━━━━━━━━━╇━━━━━━━━━━━━━━━━━━━━━━━━╇━━━━━━━━━━━━━━━┩\n",
              "│ dense (<span style=\"color: #0087ff; text-decoration-color: #0087ff\">Dense</span>)                   │ (<span style=\"color: #00d7ff; text-decoration-color: #00d7ff\">None</span>, <span style=\"color: #00af00; text-decoration-color: #00af00\">512</span>)            │       <span style=\"color: #00af00; text-decoration-color: #00af00\">401,920</span> │\n",
              "├─────────────────────────────────┼────────────────────────┼───────────────┤\n",
              "│ dropout (<span style=\"color: #0087ff; text-decoration-color: #0087ff\">Dropout</span>)               │ (<span style=\"color: #00d7ff; text-decoration-color: #00d7ff\">None</span>, <span style=\"color: #00af00; text-decoration-color: #00af00\">512</span>)            │             <span style=\"color: #00af00; text-decoration-color: #00af00\">0</span> │\n",
              "├─────────────────────────────────┼────────────────────────┼───────────────┤\n",
              "│ dense_1 (<span style=\"color: #0087ff; text-decoration-color: #0087ff\">Dense</span>)                 │ (<span style=\"color: #00d7ff; text-decoration-color: #00d7ff\">None</span>, <span style=\"color: #00af00; text-decoration-color: #00af00\">10</span>)             │         <span style=\"color: #00af00; text-decoration-color: #00af00\">5,130</span> │\n",
              "└─────────────────────────────────┴────────────────────────┴───────────────┘\n",
              "</pre>\n"
            ]
          },
          "metadata": {}
        },
        {
          "output_type": "display_data",
          "data": {
            "text/plain": [
              "\u001b[1m Total params: \u001b[0m\u001b[38;5;34m407,050\u001b[0m (1.55 MB)\n"
            ],
            "text/html": [
              "<pre style=\"white-space:pre;overflow-x:auto;line-height:normal;font-family:Menlo,'DejaVu Sans Mono',consolas,'Courier New',monospace\"><span style=\"font-weight: bold\"> Total params: </span><span style=\"color: #00af00; text-decoration-color: #00af00\">407,050</span> (1.55 MB)\n",
              "</pre>\n"
            ]
          },
          "metadata": {}
        },
        {
          "output_type": "display_data",
          "data": {
            "text/plain": [
              "\u001b[1m Trainable params: \u001b[0m\u001b[38;5;34m407,050\u001b[0m (1.55 MB)\n"
            ],
            "text/html": [
              "<pre style=\"white-space:pre;overflow-x:auto;line-height:normal;font-family:Menlo,'DejaVu Sans Mono',consolas,'Courier New',monospace\"><span style=\"font-weight: bold\"> Trainable params: </span><span style=\"color: #00af00; text-decoration-color: #00af00\">407,050</span> (1.55 MB)\n",
              "</pre>\n"
            ]
          },
          "metadata": {}
        },
        {
          "output_type": "display_data",
          "data": {
            "text/plain": [
              "\u001b[1m Non-trainable params: \u001b[0m\u001b[38;5;34m0\u001b[0m (0.00 B)\n"
            ],
            "text/html": [
              "<pre style=\"white-space:pre;overflow-x:auto;line-height:normal;font-family:Menlo,'DejaVu Sans Mono',consolas,'Courier New',monospace\"><span style=\"font-weight: bold\"> Non-trainable params: </span><span style=\"color: #00af00; text-decoration-color: #00af00\">0</span> (0.00 B)\n",
              "</pre>\n"
            ]
          },
          "metadata": {}
        }
      ]
    },
    {
      "cell_type": "markdown",
      "source": [
        "#ディープラーニングを実行"
      ],
      "metadata": {
        "id": "uPtNperpY1NO"
      }
    },
    {
      "cell_type": "code",
      "source": [
        "batch = 50\n",
        "epochs = 5\n",
        "\n",
        "history = model.fit(x_train,                          # 訓練データ\n",
        "                    y_train,                          # 正解ラベル\n",
        "                    batch_size = batch,               # ミニバッチのサイズ\n",
        "                    epochs = epochs,                  # 学習する回数\n",
        "                    verbose = 1,                      # 学習の進捗状況を出力する\n",
        "                    validation_data = (x_test,y_test) # 検証データの指定\n",
        "                    )\n"
      ],
      "metadata": {
        "colab": {
          "base_uri": "https://localhost:8080/"
        },
        "id": "WlZmP2-SY3cb",
        "outputId": "74c74dea-4f34-48d3-ed9a-485012453e09"
      },
      "execution_count": 6,
      "outputs": [
        {
          "output_type": "stream",
          "name": "stdout",
          "text": [
            "Epoch 1/5\n",
            "\u001b[1m1200/1200\u001b[0m \u001b[32m━━━━━━━━━━━━━━━━━━━━\u001b[0m\u001b[37m\u001b[0m \u001b[1m10s\u001b[0m 7ms/step - accuracy: 0.8839 - loss: 0.3941 - val_accuracy: 0.9663 - val_loss: 0.1176\n",
            "Epoch 2/5\n",
            "\u001b[1m1200/1200\u001b[0m \u001b[32m━━━━━━━━━━━━━━━━━━━━\u001b[0m\u001b[37m\u001b[0m \u001b[1m10s\u001b[0m 8ms/step - accuracy: 0.9685 - loss: 0.1049 - val_accuracy: 0.9737 - val_loss: 0.0816\n",
            "Epoch 3/5\n",
            "\u001b[1m1200/1200\u001b[0m \u001b[32m━━━━━━━━━━━━━━━━━━━━\u001b[0m\u001b[37m\u001b[0m \u001b[1m10s\u001b[0m 8ms/step - accuracy: 0.9778 - loss: 0.0711 - val_accuracy: 0.9772 - val_loss: 0.0739\n",
            "Epoch 4/5\n",
            "\u001b[1m1200/1200\u001b[0m \u001b[32m━━━━━━━━━━━━━━━━━━━━\u001b[0m\u001b[37m\u001b[0m \u001b[1m9s\u001b[0m 7ms/step - accuracy: 0.9830 - loss: 0.0549 - val_accuracy: 0.9811 - val_loss: 0.0631\n",
            "Epoch 5/5\n",
            "\u001b[1m1200/1200\u001b[0m \u001b[32m━━━━━━━━━━━━━━━━━━━━\u001b[0m\u001b[37m\u001b[0m \u001b[1m12s\u001b[0m 10ms/step - accuracy: 0.9862 - loss: 0.0413 - val_accuracy: 0.9812 - val_loss: 0.0612\n"
          ]
        }
      ]
    },
    {
      "cell_type": "code",
      "source": [
        "hist_loss = history.history['loss']  # 訓練用データの誤差\n",
        "hist_acc = history.history['accuracy']  # 検証用データの誤差\n",
        "\n",
        "plt.plot(np.arange(len(hist_loss)), hist_loss, label='loss')\n",
        "plt.plot(np.arange(len(hist_acc)), hist_acc, label='accuracy')\n",
        "plt.legend()\n",
        "plt.show()"
      ],
      "metadata": {
        "colab": {
          "base_uri": "https://localhost:8080/",
          "height": 430
        },
        "id": "PtwpBUiqdD4b",
        "outputId": "1c792ae1-36ca-4bac-dafd-68c1b7baf4f7"
      },
      "execution_count": 7,
      "outputs": [
        {
          "output_type": "display_data",
          "data": {
            "text/plain": [
              "<Figure size 640x480 with 1 Axes>"
            ],
            "image/png": "[encoded data removed]"
          },
          "metadata": {}
        }
      ]
    },
    {
      "cell_type": "markdown",
      "source": [
        "loss (誤差)\n",
        "\n",
        "曲線: 通常、訓練が進むにつれて値が小さくなることを示します。\n",
        "\n",
        "意味: モデルが訓練データに対してどれだけ正確に予測できているかを表します。誤差が低いほど、モデルの予測が正しいことを意味します。グラフが右下がりになっていれば、モデルが順調に学習していることを示します。\n",
        "\n",
        "accuracy (正解率)\n",
        "\n",
        "曲線: 通常、訓練が進むにつれて値が大きくなります。\n",
        "\n",
        "意味: モデルが訓練データに対してどれだけ多くのデータを正しく分類できたかを表します。正解率が高いほど、モデルの性能が良いことを示します。グラフが右上がりになっていれば、モデルの性能が向上していることを示します。\n",
        "\n",
        "グラフから読み取れること\n",
        "訓練の進捗:\n",
        "\n",
        "loss曲線が下がり続け、accuracy曲線が上がり続けていれば、モデルがまだ学習を続けており、さらに性能が向上する可能性があります。\n",
        "\n",
        "過学習 (Overfitting):\n",
        "\n",
        "もし、lossは下がり続けているのに、accuracyの曲線が途中で横ばいになったり、下がり始めたりした場合、それは過学習の兆候です。過学習とは、モデルが訓練データに過剰に適応してしまい、未知のデータに対する予測性能が低下している状態を指します。"
      ],
      "metadata": {
        "id": "5DK1sYBHe3y5"
      }
    },
    {
      "cell_type": "code",
      "source": [
        "# 分類結果の可視化\n",
        "# mnistのラベル名\n",
        "mnist_labels = [\"0\", \"1\", \"2\", \"3\", \"4\",\n",
        "                \"5\", \"6\", \"7\", \"8\", \"9\"]\n",
        "\n",
        "# テストデータからランダムに5つの画像を選択\n",
        "indices = np.random.choice(range(len(x_test)), 5, replace=False)\n",
        "predictions = model.predict(x_test[indices])\n",
        "\n",
        "plt.figure(figsize=(10, 4))\n",
        "for i, index in enumerate(indices):\n",
        "    plt.subplot(1, 5, i + 1)\n",
        "\n",
        "    # 元の画像を表示 (形状を28x28に戻す)\n",
        "    plt.imshow(x_test[index].reshape(28, 28))\n",
        "\n",
        "    # 予測結果と正解ラベルを取得\n",
        "    predicted_label = np.argmax(predictions[i])\n",
        "    # y_testはワンホットエンコーディングされているため、argmaxで元のラベルを取得\n",
        "    true_label = np.argmax(y_test[index])\n",
        "\n",
        "    # タイトルに予測と正解を表示\n",
        "    title_color = \"green\" if predicted_label == true_label else \"red\"\n",
        "    plt.title(f\"Predicted: {mnist_labels[predicted_label]}\\nTrue: {mnist_labels[true_label]}\",\n",
        "              color=title_color)\n",
        "\n",
        "    plt.axis('off')\n",
        "\n",
        "plt.suptitle(\"mnist Classification Results\", fontsize=16)\n",
        "plt.tight_layout(rect=[0, 0.03, 1, 0.95])\n",
        "plt.show()"
      ],
      "metadata": {
        "colab": {
          "base_uri": "https://localhost:8080/",
          "height": 358
        },
        "id": "HhH5D_iqpAYZ",
        "outputId": "704ef049-8931-401e-ae98-1d829223fc43"
      },
      "execution_count": null,
      "outputs": [
        {
          "output_type": "stream",
          "name": "stdout",
          "text": [
            "\u001b[1m1/1\u001b[0m \u001b[32m━━━━━━━━━━━━━━━━━━━━\u001b[0m\u001b[37m\u001b[0m \u001b[1m0s\u001b[0m 49ms/step\n"
          ]
        },
        {
          "output_type": "display_data",
          "data": {
            "text/plain": [
              "<Figure size 1000x400 with 5 Axes>"
            ],
            "image/png": "[encoded data removed]"
          },
          "metadata": {}
        }
      ]
    },
    {
      "cell_type": "code",
      "source": [
        "from PIL import Image\n",
        "\n",
        "# 画像を読み込む\n",
        "try:\n",
        "    img = Image.open(\"1.png\").convert('L') # グレースケールに変換\n",
        "    # 28x28にリサイズ\n",
        "    img = img.resize((28, 28))\n",
        "\n",
        "    # numpy配列に変換\n",
        "    img_array = np.array(img)\n",
        "\n",
        "    #print(img_array)\n",
        "    # イメージを反転\n",
        "    img_array = 255 - img_array\n",
        "    #print(img_array)\n",
        "\n",
        "\n",
        "    img_array = img_array.reshape(1, 28*28) # モデル用に形状を変更\n",
        "    img_array = img_array.astype('float32') / 255 # ピクセル値をスケール変換\n",
        "\n",
        "\n",
        "    # 予測を行う\n",
        "    prediction = model.predict(img_array)\n",
        "\n",
        "    # 予測されたラベルを取得\n",
        "    predicted_label_index = np.argmax(prediction)\n",
        "    predicted_label = mnist_labels[predicted_label_index]\n",
        "\n",
        "    print(f\"The predicted digit is: {predicted_label}\")\n",
        "\n",
        "    # 画像を表示\n",
        "    plt.imshow(img, cmap='gray')\n",
        "    plt.title(f\"Image to classify: Predicted: {predicted_label}\")\n",
        "    plt.axis('off')\n",
        "    plt.show()\n",
        "\n",
        "except FileNotFoundError:\n",
        "    print(\"エラー: pngが見つかりません。画像ファイルが正しいディレクトリにあることを確認してください。\")\n",
        "except Exception as e:\n",
        "    print(f\"エラーが発生しました: {e}\")"
      ],
      "metadata": {
        "colab": {
          "base_uri": "https://localhost:8080/",
          "height": 463
        },
        "id": "erlauu_2dnCr",
        "outputId": "2a7a7210-b77d-466e-f303-2e9606e88c36"
      },
      "execution_count": null,
      "outputs": [
        {
          "output_type": "stream",
          "name": "stdout",
          "text": [
            "\u001b[1m1/1\u001b[0m \u001b[32m━━━━━━━━━━━━━━━━━━━━\u001b[0m\u001b[37m\u001b[0m \u001b[1m0s\u001b[0m 26ms/step\n",
            "The predicted digit is: 1\n"
          ]
        },
        {
          "output_type": "display_data",
          "data": {
            "text/plain": [
              "<Figure size 640x480 with 1 Axes>"
            ],
            "image/png": "[encoded data removed]"
          },
          "metadata": {}
        }
      ]
    }
  ]
}